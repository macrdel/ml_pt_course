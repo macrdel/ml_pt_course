{
 "cells": [
  {
   "cell_type": "code",
   "execution_count": 1,
   "metadata": {},
   "outputs": [],
   "source": [
    "import numpy as np\n",
    "from matplotlib import pyplot as plt"
   ]
  },
  {
   "cell_type": "code",
   "execution_count": 2,
   "metadata": {},
   "outputs": [],
   "source": [
    "# считываем данные из файла и преобразуем их в двумерный массив\n",
    "def read_data(filename):\n",
    "    import sys\n",
    "    with open(f'{filename}.txt', 'r') as sys.stdin:\n",
    "        inp_data = np.array(np.matrix('; '.join(list(map(str.strip, sys.stdin.readlines())))))\n",
    "        return inp_data"
   ]
  },
  {
   "cell_type": "code",
   "execution_count": 3,
   "metadata": {},
   "outputs": [],
   "source": [
    "# нормализация\n",
    "def norming(data):\n",
    "    a_n = []\n",
    "    b_n = []\n",
    "    for n in range(len(data[0])):\n",
    "        max_n, min_n = max(data[:, n]), min(data[:, n])\n",
    "        k, b = 1 / (max_n - min_n), -min_n / (max_n - min_n)\n",
    "        for m in range(len(data)):\n",
    "            data[m, n] *= k\n",
    "            data[m, n] += b\n",
    "        a_n.append(k)\n",
    "        b_n.append(b)\n",
    "\n",
    "    return data, a_n, b_n, # запоминаем коэф. для денормировки "
   ]
  },
  {
   "cell_type": "code",
   "execution_count": 4,
   "metadata": {},
   "outputs": [],
   "source": [
    "# функция поиска ближайшего нейрона  \n",
    "def findBMU(w_k, x):\n",
    "    return min([ (np.linalg.norm(x - w), i)  for i, w in enumerate(w_k) ])[1]"
   ]
  },
  {
   "cell_type": "code",
   "execution_count": 5,
   "metadata": {},
   "outputs": [],
   "source": [
    "# обучение сети Кохонена с рекомендуемыми параметрами\n",
    "def Kohonen_learn(K, data, lamb = 0.3, delta_lamb = 0.05, L = 10):\n",
    "    w_k = [] # веса\n",
    "\n",
    "    # инициализация весов случайными значениями из [0.1, 0.3] \n",
    "    for _ in range(K):\n",
    "        w_k.append(np.random.uniform(0.1, 0.30001, size=len(data[0])))\n",
    "    \n",
    "    # пока скорость ненулевая\n",
    "    while lamb > 0:\n",
    "        for _ in range(L):\n",
    "            for x in data:\n",
    "                ind = findBMU(w_k, x) # для каждого вектора из выборки находим ближайший нейрон\n",
    "            \n",
    "                w_k[ind] += lamb * (x - w_k[ind]) # корректируем его веса\n",
    "        \n",
    "    \n",
    "        lamb -= delta_lamb # уменьшаем скорость обучения\n",
    "        lamb = round(lamb, 2)\n",
    "    \n",
    "    print('Получены весы (норм. вид):', *w_k, sep='\\n')\n",
    "    \n",
    "    return w_k"
   ]
  },
  {
   "cell_type": "code",
   "execution_count": 6,
   "metadata": {},
   "outputs": [],
   "source": [
    "# денормировка, каждое предприятие в отдельный кластер\n",
    "def classified(K, w_k, data, a_n, b_n, filename):\n",
    "    k_col = [0] * K\n",
    "    for x in np.copy(data):\n",
    "        ind = findBMU(w_k, x) # находим индекс класса\n",
    "        k_col[ind] += 1\n",
    "        for n in range(len(a_n)): # денормирока предприятия\n",
    "            x[n] = (x[n] - b_n[n]) / a_n[n]\n",
    "        \n",
    "        with open(f'{filename}_{ind + 1}.txt', 'a') as file: # в файл в зависимости от номера класса\n",
    "            file.write(' '.join(x.astype(str)))\n",
    "            file.write('\\n')\n",
    "    \n",
    "    print(f'Распределение по классам, K = {K} ', k_col) # сколько предприятий в каждом классе\n",
    "    \n",
    "    for k in range(K): # денормировка весов\n",
    "        for n in range(len(a_n)):\n",
    "            w_k[k][n] = (w_k[k][n] - b_n[n]) / a_n[n]\n",
    "    \n",
    "    print('Веса :', *w_k, sep='\\n')\n",
    "    \n",
    "    return w_k"
   ]
  },
  {
   "cell_type": "code",
   "execution_count": 7,
   "metadata": {},
   "outputs": [
    {
     "name": "stdout",
     "output_type": "stream",
     "text": [
      "[[ 1.6867e+01  2.4110e+00  2.0930e+00  2.7047e+01  4.6800e+05]\n",
      " [ 1.9100e+00  2.7900e-01  4.5200e-01  2.4600e+00  1.6821e+04]\n",
      " [ 4.5200e+00  9.7900e-01  7.7600e-01  6.8600e+00  1.0100e+05]\n",
      " [ 5.6400e+00  2.3300e+00  1.2500e+00  4.1200e+01  2.8560e+05]\n",
      " [ 2.5600e-01  3.6900e-01 -1.4700e-02  5.1500e-01  1.1846e+04]\n",
      " [ 1.4600e-02  1.1800e-01  6.4300e-02  1.0200e+00  5.8415e+04]\n",
      " [ 7.7000e-04  1.2000e-03 -9.7000e-05  8.1100e-03  1.2000e+04]\n",
      " [ 5.4900e-02  1.0100e-02  8.6000e-03  6.5800e-02  8.3000e+03]\n",
      " [ 4.9900e-02  3.5200e-02  7.1800e-03  6.9500e-01  4.5000e+04]\n",
      " [ 3.8100e-03  2.2100e-03  1.2320e-03  1.1500e-01  7.7910e+03]]\n"
     ]
    }
   ],
   "source": [
    "# ввод данных\n",
    "data = read_data('firms')\n",
    "print(data)"
   ]
  },
  {
   "cell_type": "code",
   "execution_count": 8,
   "metadata": {},
   "outputs": [
    {
     "name": "stdout",
     "output_type": "stream",
     "text": [
      "[[1.00000000e+00 1.00000000e+00 1.00000000e+00 6.56412949e-01\n",
      "  1.00000000e+00]\n",
      " [1.13198385e-01 1.15279276e-01 2.21426199e-01 5.95236101e-02\n",
      "  1.96215198e-02]\n",
      " [2.67945474e-01 4.05759814e-01 3.75148266e-01 1.66340753e-01\n",
      "  2.02536239e-01]\n",
      " [3.34350356e-01 9.66387252e-01 6.00037956e-01 1.00000000e+00\n",
      "  6.03658338e-01]\n",
      " [1.51326052e-02 1.52626774e-01 0.00000000e+00 1.23055776e-02\n",
      "  8.81121404e-03]\n",
      " [8.19981703e-04 4.84687526e-02 3.74816150e-02 2.45652724e-02\n",
      "  1.10002195e-01]\n",
      " [0.00000000e+00 0.00000000e+00 6.92840537e-03 0.00000000e+00\n",
      "  9.14584461e-03]\n",
      " [3.20937163e-03 3.69325255e-03 1.10547042e-02 1.40051840e-03\n",
      "  1.10601922e-03]\n",
      " [2.91292126e-03 1.41090547e-02 1.03809840e-02 1.66753698e-02\n",
      "  8.08523953e-02]\n",
      " [1.80241820e-04 4.19121919e-04 7.55895051e-03 2.59492827e-03\n",
      "  0.00000000e+00]]\n"
     ]
    }
   ],
   "source": [
    "# нормализация\n",
    "data, a_n, b_n = norming(data)\n",
    "print(data)"
   ]
  },
  {
   "cell_type": "code",
   "execution_count": 9,
   "metadata": {},
   "outputs": [
    {
     "name": "stdout",
     "output_type": "stream",
     "text": [
      "Получены весы (норм. вид):\n",
      "[0.04360094 0.08205291 0.07325829 0.03159114 0.05114996]\n",
      "[0.65499111 0.98257838 0.79269807 0.8344955  0.79457452]\n",
      "Распределение по классам, K = 2  [8, 2]\n",
      "Веса :\n",
      "[7.36153422e-01 1.98931111e-01 1.39706497e-01 1.30940882e+00\n",
      " 3.13306732e+04]\n",
      "[1.10480008e+01 2.36901737e+00 1.65606971e+00 3.43825568e+01\n",
      " 3.73461347e+05]\n"
     ]
    }
   ],
   "source": [
    "# K = 2 (стабильно делится на 8 и 2 - 2 гиганта и 8 средних и крупных)\n",
    "w_k = Kohonen_learn(K = 2, data = data)\n",
    "w_k = classified(K = 2, w_k = w_k, data = data, a_n = a_n, b_n = b_n, filename = 'firms_2')"
   ]
  },
  {
   "cell_type": "code",
   "execution_count": 10,
   "metadata": {},
   "outputs": [
    {
     "name": "stdout",
     "output_type": "stream",
     "text": [
      "Получены весы (норм. вид):\n",
      "[0.01674516 0.04287475 0.03744378 0.01537709 0.03255819]\n",
      "[0.65499111 0.98257838 0.79269807 0.8344955  0.79457452]\n",
      "[0.26794438 0.40575864 0.3751466  0.16634075 0.20253579]\n",
      "Распределение по классам, K = 3  [7, 2, 1]\n",
      "Веса :\n",
      "[2.83197658e-01 1.04519561e-01 6.42202570e-02 6.41521324e-01\n",
      " 2.27745717e+04]\n",
      "[1.10480008e+01 2.36901737e+00 1.65606971e+00 3.43825568e+01\n",
      " 3.73461347e+05]\n",
      "[4.51998161e+00 9.78997174e-01 7.75996494e-01 6.85999992e+00\n",
      " 1.00999794e+05]\n"
     ]
    }
   ],
   "source": [
    "# K = 3 (стабильно делится на 1, 2 и 7 - 2 гиганта, 1 крупное, 7 средняков)\n",
    "w_k = Kohonen_learn(K = 3, data = data)\n",
    "w_k = classified(K = 3, w_k = w_k, data = data, a_n = a_n, b_n = b_n, filename = 'firms_3')"
   ]
  },
  {
   "cell_type": "code",
   "execution_count": 11,
   "metadata": {},
   "outputs": [
    {
     "name": "stdout",
     "output_type": "stream",
     "text": [
      "Получены весы (норм. вид):\n",
      "[0.2679441  0.40575709 0.37514716 0.16634181 0.20253666]\n",
      "[0.01674516 0.04287475 0.03744378 0.01537709 0.03255819]\n",
      "[0.25128205 0.12641223 0.12860556 0.12606825 0.27449313]\n",
      "[0.65499111 0.98257838 0.79269807 0.8344955  0.79457452]\n",
      "Распределение по классам, K = 4  [1, 7, 0, 2]\n",
      "Веса :\n",
      "[4.51997681e+00 9.78993428e-01 7.75997666e-01 6.86004346e+00\n",
      " 1.01000193e+05]\n",
      "[2.83197658e-01 1.04519561e-01 6.42202570e-02 6.41521324e-01\n",
      " 2.27745717e+04]\n",
      "[4.23895079e+00 3.05828184e-01 2.56361947e-01 5.20109938e+00\n",
      " 1.34115211e+05]\n",
      "[1.10480008e+01 2.36901737e+00 1.65606971e+00 3.43825568e+01\n",
      " 3.73461347e+05]\n"
     ]
    }
   ],
   "source": [
    "# K = 4 (уже много - чересчур - образовался класс с 0ём элементов)\n",
    "w_k = Kohonen_learn(K = 4, data = data)\n",
    "w_k = classified(K = 4, w_k = w_k, data = data, a_n = a_n, b_n = b_n, filename = 'firms_4')"
   ]
  },
  {
   "cell_type": "code",
   "execution_count": 12,
   "metadata": {},
   "outputs": [
    {
     "name": "stdout",
     "output_type": "stream",
     "text": [
      "[[ 1.9100e+00  2.7900e-01  4.5200e-01  2.4600e+00  1.6821e+04]\n",
      " [ 2.5600e-01  3.6900e-01 -1.4700e-02  5.1500e-01  1.1846e+04]\n",
      " [ 1.4600e-02  1.1800e-01  6.4300e-02  1.0200e+00  5.8415e+04]\n",
      " [ 7.7000e-04  1.2000e-03 -9.7000e-05  8.1100e-03  1.2000e+04]\n",
      " [ 5.4900e-02  1.0100e-02  8.6000e-03  6.5800e-02  8.3000e+03]\n",
      " [ 4.9900e-02  3.5200e-02  7.1800e-03  6.9500e-01  4.5000e+04]\n",
      " [ 3.8100e-03  2.2100e-03  1.2320e-03  1.1500e-01  7.7910e+03]]\n"
     ]
    }
   ],
   "source": [
    "# далее будем разбивать класс с 7 элементами  - посмотрим, как можно разбить средняков\n",
    "data_7 = read_data('firms_3_1')\n",
    "print(data_7)"
   ]
  },
  {
   "cell_type": "code",
   "execution_count": 13,
   "metadata": {},
   "outputs": [
    {
     "name": "stdout",
     "output_type": "stream",
     "text": [
      "[[ 1.00000000e+00  7.55301794e-01  1.00000000e+00  1.00000000e+00\n",
      "   1.78373894e-01]\n",
      " [ 1.33682165e-01  1.00000000e+00 -6.93889390e-18  2.06734397e-01\n",
      "   8.01003477e-02]\n",
      " [ 7.24375795e-03  3.17563893e-01  1.69273623e-01  4.12697960e-01\n",
      "   1.00000000e+00]\n",
      " [ 0.00000000e+00  0.00000000e+00  3.12899079e-02 -4.33680869e-19\n",
      "   8.31423831e-02]\n",
      " [ 2.83517439e-02  2.41979337e-02  4.99250054e-02  2.35287880e-02\n",
      "   1.00545196e-02]\n",
      " [ 2.57328871e-02  9.24415443e-02  4.68823655e-02  2.80147152e-01\n",
      "   7.35007111e-01]\n",
      " [ 1.59226494e-03  2.74605764e-03  3.41375616e-02  4.35949410e-02\n",
      "   2.77555756e-17]]\n"
     ]
    }
   ],
   "source": [
    "# нормализация\n",
    "data_7, a_n_7, b_n_7 = norming(data_7)\n",
    "print(data_7)"
   ]
  },
  {
   "cell_type": "code",
   "execution_count": 14,
   "metadata": {},
   "outputs": [
    {
     "name": "stdout",
     "output_type": "stream",
     "text": [
      "Получены весы (норм. вид):\n",
      "[0.99999503 0.75529826 0.99999376 0.99999478 0.17837474]\n",
      "[0.03027379 0.2150184  0.05439674 0.15587262 0.31209529]\n"
     ]
    }
   ],
   "source": [
    "# K = 2\n",
    "w_k_7 = Kohonen_learn(K = 2, data = data_7)"
   ]
  },
  {
   "cell_type": "code",
   "execution_count": 15,
   "metadata": {},
   "outputs": [
    {
     "name": "stdout",
     "output_type": "stream",
     "text": [
      "Распределение по классам, K = 2  [1, 6]\n",
      "Веса :\n",
      "[1.90999052e+00 2.78998699e-01 4.51997088e-01 2.45998721e+00\n",
      " 1.68210426e+04]\n",
      "[5.85696197e-02 8.02837690e-02 1.06869582e-02 3.90292512e-01\n",
      " 2.35905120e+04]\n"
     ]
    }
   ],
   "source": [
    "# от средних отщепилось одно крупное\n",
    "w_k_7 = classified(K = 2, w_k = w_k_7, data = data_7, a_n = a_n_7, b_n = b_n_7, filename = 'firms_3_1_2')"
   ]
  },
  {
   "cell_type": "code",
   "execution_count": 16,
   "metadata": {},
   "outputs": [
    {
     "name": "stdout",
     "output_type": "stream",
     "text": [
      "Получены весы (норм. вид):\n",
      "[0.01682675 0.20088208 0.10583774 0.34399634 0.86265312]\n",
      "[0.01000094 0.00902771 0.03850221 0.0232944  0.02932575]\n",
      "[0.55098398 0.88212986 0.48169598 0.58884725 0.12743832]\n"
     ]
    }
   ],
   "source": [
    "# K = 3 (неустойчивое разделение)\n",
    "w_k_7 = Kohonen_learn(K = 3, data = data_7)"
   ]
  },
  {
   "cell_type": "code",
   "execution_count": 17,
   "metadata": {},
   "outputs": [
    {
     "name": "stdout",
     "output_type": "stream",
     "text": [
      "Распределение по классам, K = 3  [2, 3, 2]\n",
      "Веса :\n",
      "[3.28961319e-02 7.50844272e-02 3.46944744e-02 8.51551194e-01\n",
      " 5.14619516e+04]\n",
      "[1.98640935e-02 4.52039127e-03 3.26897954e-03 6.52252967e-02\n",
      " 9.27558697e+03]\n",
      "[1.05272515e+00 3.25647362e-01 2.10107514e-01 1.45189868e+00\n",
      " 1.42424375e+04]\n"
     ]
    }
   ],
   "source": [
    "w_k_7 = classified(K = 3, w_k = w_k_7, data = data_7, a_n = a_n_7, b_n = b_n_7, filename = 'firms_3_1_3')"
   ]
  },
  {
   "cell_type": "code",
   "execution_count": null,
   "metadata": {},
   "outputs": [],
   "source": [
    "# итого можно выделить 3 объективных класса : компании-гиганты (2 шт), средние (2 шт) и мелкие (6 шт)"
   ]
  },
  {
   "cell_type": "code",
   "execution_count": 18,
   "metadata": {},
   "outputs": [
    {
     "name": "stdout",
     "output_type": "stream",
     "text": [
      "[[1.00000000e+00 1.00000000e+00 1.00000000e+00 6.56412949e-01\n",
      "  1.00000000e+00]\n",
      " [1.13198385e-01 1.15279276e-01 2.21426199e-01 5.95236101e-02\n",
      "  1.96215198e-02]\n",
      " [2.67945474e-01 4.05759814e-01 3.75148266e-01 1.66340753e-01\n",
      "  2.02536239e-01]\n",
      " [3.34350356e-01 9.66387252e-01 6.00037956e-01 1.00000000e+00\n",
      "  6.03658338e-01]\n",
      " [1.51326052e-02 1.52626774e-01 0.00000000e+00 1.23055776e-02\n",
      "  8.81121404e-03]\n",
      " [8.19981703e-04 4.84687526e-02 3.74816150e-02 2.45652724e-02\n",
      "  1.10002195e-01]\n",
      " [0.00000000e+00 0.00000000e+00 6.92840537e-03 0.00000000e+00\n",
      "  9.14584461e-03]\n",
      " [3.20937163e-03 3.69325255e-03 1.10547042e-02 1.40051840e-03\n",
      "  1.10601922e-03]\n",
      " [2.91292126e-03 1.41090547e-02 1.03809840e-02 1.66753698e-02\n",
      "  8.08523953e-02]\n",
      " [1.80241820e-04 4.19121919e-04 7.55895051e-03 2.59492827e-03\n",
      "  0.00000000e+00]]\n"
     ]
    }
   ],
   "source": [
    "print(data)"
   ]
  },
  {
   "cell_type": "code",
   "execution_count": 38,
   "metadata": {},
   "outputs": [],
   "source": [
    "# теперь кластеризация с помощью карт Кохонена\n",
    "# инициализация\n",
    "def init(n, N = 20):\n",
    "    w_k = [] # веса\n",
    "    som = np.empty((N, N, 3)) # карта - N * N векторов [R G B]\n",
    "    \n",
    "    for i in range(N * N):\n",
    "        w_k.append(np.random.uniform(0, 1.00001, size=n))\n",
    "        avg = np.mean(w_k[-1]) # вычисляем среднее значение полученных весов для окраски\n",
    "        dm = divmod(i, N) # находим номер строки и номер столбца нейрона i \n",
    "        som[dm[0], dm[1]] = avg * np.array([255, 255, 255]) # окрашиваем в оттенок серого\n",
    "        \n",
    "    return w_k, som.astype('uint8'), "
   ]
  },
  {
   "cell_type": "code",
   "execution_count": 39,
   "metadata": {},
   "outputs": [],
   "source": [
    "w_k_init, som_init = init(n = len(data[0]))"
   ]
  },
  {
   "cell_type": "code",
   "execution_count": 40,
   "metadata": {},
   "outputs": [
    {
     "data": {
      "text/plain": [
       "(-0.5, 19.5, 19.5, -0.5)"
      ]
     },
     "execution_count": 40,
     "metadata": {},
     "output_type": "execute_result"
    },
    {
     "data": {
      "image/png": "[encoded data removed]",
      "text/plain": [
       "<Figure size 432x288 with 1 Axes>"
      ]
     },
     "metadata": {
      "needs_background": "light"
     },
     "output_type": "display_data"
    }
   ],
   "source": [
    "plt.imshow(som_init)\n",
    "plt.suptitle('Карта до обучения')\n",
    "plt.axis('off')"
   ]
  },
  {
   "cell_type": "code",
   "execution_count": 41,
   "metadata": {},
   "outputs": [],
   "source": [
    "def eta(t, eta_0 = 0.1, a = 5e-04): # обучающий сомножитель\n",
    "    return eta_0 * np.exp(-a * t)\n",
    "\n",
    "def sigma(t, sigma_0 = 20, b = 1.3e-03): # функция соседства\n",
    "    return sigma_0 * np.exp(-b * t)\n",
    "\n",
    "def h(t, rho): # плотность обучения\n",
    "    return np.exp(- (rho ** 2) / (2 * sigma(t)) )"
   ]
  },
  {
   "cell_type": "code",
   "execution_count": 42,
   "metadata": {},
   "outputs": [],
   "source": [
    "def rho(m1, m2): # расстояние между двумя нейронами на карте\n",
    "    return np.sqrt((m1[0] - m2[0]) ** 2 + (m1[1] - m2[0]) ** 2)"
   ]
  },
  {
   "cell_type": "code",
   "execution_count": 43,
   "metadata": {},
   "outputs": [],
   "source": [
    "def SOM_learn(w_k, som, data, t_max = 1000, N = 20):\n",
    "    som_maps = [] # в этот список будем складывать виды карт на каждой сотой итерации\n",
    "    n = len(data[0])\n",
    "    \n",
    "    for t in range(1, t_max + 1):\n",
    "        i = np.random.choice(n)\n",
    "        x = np.copy(data[i]) # выбираем случайный вектор из обучающей выборки\n",
    "        \n",
    "        ind = findBMU(w_k, x) # находим нейрон, наиболее близкий к этому вектору\n",
    "        best = divmod(ind, N) # находим его расположение на карте\n",
    "        \n",
    "        for m in range(N * N): # для всех остальных нейронов\n",
    "            tmp = divmod(m, N) # находим их расположение на карте\n",
    "            \n",
    "            w_k[m] += eta(t) * h(t, rho(best, tmp)) * (x - w_k[m]) # корректируем веса, согласно формуле\n",
    "            \n",
    "        # на каждой сотой итерации рисуем карту\n",
    "        if not t % 100:\n",
    "            for m in range(N * N):\n",
    "                avg = np.mean(w_k[m]) # вычисляем среднее значение полученных весов для окраски \n",
    "                dm = divmod(m, N)\n",
    "                som[dm[0], dm[1]] = avg * np.array([255, 255, 255])\n",
    "            \n",
    "            som_maps.append(np.copy(som))\n",
    "    \n",
    "    return w_k, som_maps,"
   ]
  },
  {
   "cell_type": "code",
   "execution_count": 44,
   "metadata": {},
   "outputs": [],
   "source": [
    "w_k, maps = SOM_learn(w_k_init, som_init, data)"
   ]
  },
  {
   "cell_type": "code",
   "execution_count": 45,
   "metadata": {},
   "outputs": [
    {
     "data": {
      "image/png": "[encoded data removed]",
      "text/plain": [
       "<Figure size 1440x792 with 10 Axes>"
      ]
     },
     "metadata": {
      "needs_background": "light"
     },
     "output_type": "display_data"
    }
   ],
   "source": [
    "# отобразим изменения карт\n",
    "f = plt.figure(figsize=(20, 11))\n",
    "for i in range(2):\n",
    "    for j in range(5):\n",
    "        sp = f.add_subplot(2, 5, j + 1 + i * 5)\n",
    "        sp.axis('Off')\n",
    "        sp.set_title(f\"t = {100 * (i * 5 + j + 1)}\")\n",
    "        plt.imshow(maps[i * 5 + j])\n",
    "plt.show()"
   ]
  },
  {
   "cell_type": "code",
   "execution_count": 52,
   "metadata": {},
   "outputs": [],
   "source": [
    "# примеры распознанных предприятий\n",
    "# 8 - средняя, 2 - крупная, 0 - гигантская\n",
    "examples = np.array( [ np.copy(data[8]) , np.copy(data[2]) , np.copy(data[0]) ] )"
   ]
  },
  {
   "cell_type": "code",
   "execution_count": 53,
   "metadata": {},
   "outputs": [],
   "source": [
    "# отметим их на карте\n",
    "som_map = np.copy(maps[-1])\n",
    "colors = np.array([[255, 0, 0], [0, 255, 0], [0, 0, 255]]) # R - средние, G - крупные, B - гигантские\n",
    "for i, x in enumerate(examples):\n",
    "    ind = findBMU(w_k, x)\n",
    "    dm = divmod(ind, 20)\n",
    "    som_map[dm[0], dm[1]] = colors[i]"
   ]
  },
  {
   "cell_type": "code",
   "execution_count": 54,
   "metadata": {},
   "outputs": [
    {
     "data": {
      "text/plain": [
       "(-0.5, 19.5, 19.5, -0.5)"
      ]
     },
     "execution_count": 54,
     "metadata": {},
     "output_type": "execute_result"
    },
    {
     "data": {
      "image/png": "[encoded data removed]",
      "text/plain": [
       "<Figure size 432x288 with 1 Axes>"
      ]
     },
     "metadata": {
      "needs_background": "light"
     },
     "output_type": "display_data"
    }
   ],
   "source": [
    "plt.imshow(som_map)\n",
    "plt.suptitle('Карта после обучения')\n",
    "plt.axis('off')"
   ]
  }
 ],
 "metadata": {
  "kernelspec": {
   "display_name": "Python 3",
   "language": "python",
   "name": "python3"
  },
  "language_info": {
   "codemirror_mode": {
    "name": "ipython",
    "version": 3
   },
   "file_extension": ".py",
   "mimetype": "text/x-python",
   "name": "python",
   "nbconvert_exporter": "python",
   "pygments_lexer": "ipython3",
   "version": "3.8.5"
  }
 },
 "nbformat": 4,
 "nbformat_minor": 4
}
