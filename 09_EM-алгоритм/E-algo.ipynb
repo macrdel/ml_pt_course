{
 "cells": [
  {
   "cell_type": "code",
   "execution_count": 1,
   "metadata": {},
   "outputs": [],
   "source": [
    "import numpy as np\n",
    "from matplotlib import pyplot as plt"
   ]
  },
  {
   "cell_type": "code",
   "execution_count": 2,
   "metadata": {},
   "outputs": [],
   "source": [
    "# считываем данные из файла и преобразуем их в двумерный массив\n",
    "def read_data(filename):\n",
    "    import sys\n",
    "    with open(f'{filename}.txt', 'r') as sys.stdin:\n",
    "        inp_data = np.array(np.matrix('; '.join(list(map(str.strip, sys.stdin.readlines())))))\n",
    "        return inp_data"
   ]
  },
  {
   "cell_type": "code",
   "execution_count": 3,
   "metadata": {},
   "outputs": [],
   "source": [
    "# нормализация\n",
    "def norming(data):\n",
    "    for n in range(len(data[0])):\n",
    "        max_n, min_n = max(data[:, n]), min(data[:, n])\n",
    "        k, b = 1 / (max_n - min_n), -min_n / (max_n - min_n)\n",
    "        for m in range(len(data)):\n",
    "            data[m, n] *= k\n",
    "            data[m, n] += b\n",
    "\n",
    "    return data"
   ]
  },
  {
   "cell_type": "code",
   "execution_count": 4,
   "metadata": {},
   "outputs": [],
   "source": [
    "def p(x, sigma, mu):\n",
    "    det = np.prod(sigma)\n",
    "    \n",
    "    res = 0\n",
    "    for n in range(len(x)):\n",
    "        res += (x[n] - mu[n]) ** 2 / sigma[n]\n",
    "    res /= -2\n",
    "    \n",
    "    return np.exp(res) / (np.sqrt(det) * (2 * np.pi) ** (len(x) / 2.0) )"
   ]
  },
  {
   "cell_type": "code",
   "execution_count": 5,
   "metadata": {},
   "outputs": [],
   "source": [
    "def EM_learn(K, data, tmax):\n",
    "        \n",
    "    M = len(data)\n",
    "    N = len(data[0])\n",
    "    \n",
    "    # инициализация\n",
    "    w_k = []\n",
    "    for _ in range(K):\n",
    "        w_k.append(1 / K)\n",
    "        \n",
    "    mu_k = []\n",
    "    for k in range(K):\n",
    "        mu_k.append(np.copy(data[k]))\n",
    "        \n",
    "    sigma_k = []\n",
    "    for k in range(K):\n",
    "        sigma = [0] * N\n",
    "        for n in range(N):\n",
    "            sigma[n] = (1.0 / (M * K)) * sum([ (data[m][n]  - mu_k[k][n]) ** 2 for m in range(M) ])\n",
    "            # sigma[n] = 1.0\n",
    "        sigma_k.append(sigma)\n",
    "        \n",
    "    \n",
    "    gmk = np.zeros((M, K)) \n",
    "    for t in range(tmax):\n",
    "        \n",
    "        # E-шаг\n",
    "        for m in range(M):\n",
    "            wpk = [ w_k[k] * p(data[m], sigma_k[k], mu_k[k]) for k in range(K) ]\n",
    "            denominator = sum(wpk)\n",
    "            for k in range(K):\n",
    "                gmk[m][k] = wpk[k] / denominator\n",
    "        \n",
    "        \n",
    "        # M-шаг\n",
    "        if tmax - t - 1 > 1:\n",
    "            \n",
    "            for k in range(K):\n",
    "                w_k[k] = (1.0 / M) * np.sum(gmk[:, k])\n",
    "            \n",
    "            for k in range(K):\n",
    "                for n in range(N):\n",
    "                    mu_k[k][n] = (1.0 / (M * w_k[k])) * sum( [ data[m][n] * gmk[m][k] for m in range(M)] )\n",
    "                    \n",
    "            for k in range(K):\n",
    "                for n in range(N):\n",
    "                    sigma_k[k][n] = (1.0 / (M * w_k[k])) * sum( [ ((data[m][n] - mu_k[k][n]) ** 2) * gmk[m][k] for m in range(M)] )\n",
    "    \n",
    "    return gmk"
   ]
  },
  {
   "cell_type": "code",
   "execution_count": 6,
   "metadata": {},
   "outputs": [
    {
     "name": "stdout",
     "output_type": "stream",
     "text": [
      "[[ 1.6867e+01  2.4110e+00  2.0930e+00  2.7047e+01  4.6800e+05]\n",
      " [ 1.9100e+00  2.7900e-01  4.5200e-01  2.4600e+00  1.6821e+04]\n",
      " [ 4.5200e+00  9.7900e-01  7.7600e-01  6.8600e+00  1.0100e+05]\n",
      " [ 5.6400e+00  2.3300e+00  1.2500e+00  4.1200e+01  2.8560e+05]\n",
      " [ 2.5600e-01  3.6900e-01 -1.4700e-02  5.1500e-01  1.1846e+04]\n",
      " [ 1.4600e-02  1.1800e-01  6.4300e-02  1.0200e+00  5.8415e+04]\n",
      " [ 7.7000e-04  1.2000e-03 -9.7000e-05  8.1100e-03  1.2000e+04]\n",
      " [ 5.4900e-02  1.0100e-02  8.6000e-03  6.5800e-02  8.3000e+03]\n",
      " [ 4.9900e-02  3.5200e-02  7.1800e-03  6.9500e-01  4.5000e+04]\n",
      " [ 3.8100e-03  2.2100e-03  1.2320e-03  1.1500e-01  7.7910e+03]]\n"
     ]
    }
   ],
   "source": [
    "data = read_data('firms')\n",
    "print(data)"
   ]
  },
  {
   "cell_type": "code",
   "execution_count": 7,
   "metadata": {},
   "outputs": [
    {
     "name": "stdout",
     "output_type": "stream",
     "text": [
      "[[1.00000000e+00 1.00000000e+00 1.00000000e+00 6.56412949e-01\n",
      "  1.00000000e+00]\n",
      " [1.13198385e-01 1.15279276e-01 2.21426199e-01 5.95236101e-02\n",
      "  1.96215198e-02]\n",
      " [2.67945474e-01 4.05759814e-01 3.75148266e-01 1.66340753e-01\n",
      "  2.02536239e-01]\n",
      " [3.34350356e-01 9.66387252e-01 6.00037956e-01 1.00000000e+00\n",
      "  6.03658338e-01]\n",
      " [1.51326052e-02 1.52626774e-01 0.00000000e+00 1.23055776e-02\n",
      "  8.81121404e-03]\n",
      " [8.19981703e-04 4.84687526e-02 3.74816150e-02 2.45652724e-02\n",
      "  1.10002195e-01]\n",
      " [0.00000000e+00 0.00000000e+00 6.92840537e-03 0.00000000e+00\n",
      "  9.14584461e-03]\n",
      " [3.20937163e-03 3.69325255e-03 1.10547042e-02 1.40051840e-03\n",
      "  1.10601922e-03]\n",
      " [2.91292126e-03 1.41090547e-02 1.03809840e-02 1.66753698e-02\n",
      "  8.08523953e-02]\n",
      " [1.80241820e-04 4.19121919e-04 7.55895051e-03 2.59492827e-03\n",
      "  0.00000000e+00]]\n"
     ]
    }
   ],
   "source": [
    "data = norming(data)\n",
    "print(data)"
   ]
  },
  {
   "cell_type": "code",
   "execution_count": 10,
   "metadata": {},
   "outputs": [
    {
     "name": "stdout",
     "output_type": "stream",
     "text": [
      "[[1.00000000e+000 3.75435458e-116]\n",
      " [1.75115700e-213 1.00000000e+000]\n",
      " [6.46016758e-092 1.00000000e+000]\n",
      " [1.00000000e+000 1.47587221e-100]\n",
      " [3.72086771e-199 1.00000000e+000]\n",
      " [3.46961485e-247 1.00000000e+000]\n",
      " [2.81801651e-273 1.00000000e+000]\n",
      " [2.43302792e-271 1.00000000e+000]\n",
      " [3.00172032e-265 1.00000000e+000]\n",
      " [4.50664726e-273 1.00000000e+000]]\n"
     ]
    }
   ],
   "source": [
    "# К = 2\n",
    "mat = EM_learn(2, data, tmax = 3)\n",
    "print(mat)"
   ]
  },
  {
   "cell_type": "code",
   "execution_count": 12,
   "metadata": {},
   "outputs": [
    {
     "name": "stdout",
     "output_type": "stream",
     "text": [
      "[[1.00000000e+000 0.00000000e+000 1.92359544e-069]\n",
      " [0.00000000e+000 9.74916613e-001 2.50833871e-002]\n",
      " [6.06530934e-245 2.61218619e-022 1.00000000e+000]\n",
      " [1.00000000e+000 0.00000000e+000 1.33948829e-059]\n",
      " [0.00000000e+000 9.99998799e-001 1.20052914e-006]\n",
      " [0.00000000e+000 9.99994008e-001 5.99234702e-006]\n",
      " [0.00000000e+000 9.99999940e-001 6.01285408e-008]\n",
      " [0.00000000e+000 9.99999938e-001 6.19420685e-008]\n",
      " [0.00000000e+000 9.99999335e-001 6.64608055e-007]\n",
      " [0.00000000e+000 9.99999944e-001 5.56447473e-008]]\n"
     ]
    }
   ],
   "source": [
    "# K = 3\n",
    "mat = EM_learn(3, data, tmax = 3)\n",
    "print(mat)"
   ]
  }
 ],
 "metadata": {
  "kernelspec": {
   "display_name": "Python 3",
   "language": "python",
   "name": "python3"
  },
  "language_info": {
   "codemirror_mode": {
    "name": "ipython",
    "version": 3
   },
   "file_extension": ".py",
   "mimetype": "text/x-python",
   "name": "python",
   "nbconvert_exporter": "python",
   "pygments_lexer": "ipython3",
   "version": "3.8.5"
  }
 },
 "nbformat": 4,
 "nbformat_minor": 4
}
