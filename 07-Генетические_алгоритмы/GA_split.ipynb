{
 "cells": [
  {
   "cell_type": "code",
   "execution_count": 1,
   "metadata": {},
   "outputs": [],
   "source": [
    "import numpy as np"
   ]
  },
  {
   "cell_type": "code",
   "execution_count": 2,
   "metadata": {},
   "outputs": [],
   "source": [
    "A = np.arange(1, 1001)"
   ]
  },
  {
   "cell_type": "code",
   "execution_count": 3,
   "metadata": {},
   "outputs": [],
   "source": [
    "def F(x): # x = [1 0 0 1], -x+1 = [0 1 1 0]\n",
    "    return np.abs( np.sum(A[x.astype(bool)]) - np.sum(A[(-x+1).astype(bool)]) )\n",
    "\n",
    "def Fit(x):\n",
    "    return 1 / (1 + F(x))"
   ]
  },
  {
   "cell_type": "code",
   "execution_count": 4,
   "metadata": {},
   "outputs": [],
   "source": [
    "def cross(x, y):\n",
    "    res = []\n",
    "\n",
    "    p = Fit(x) / (Fit(x) + Fit(y))\n",
    "\n",
    "    for i in range(x.shape[0]):\n",
    "        if np.random.random() < p:\n",
    "            res.append(x[i])\n",
    "        else:\n",
    "            res.append(y[i])\n",
    "\n",
    "    return np.array(res)"
   ]
  },
  {
   "cell_type": "code",
   "execution_count": 14,
   "metadata": {},
   "outputs": [],
   "source": [
    "def GA_split(M, K):\n",
    "    pool = []\n",
    "    res = [] \n",
    "    for _ in range(M): # вектора из 1000 элементов со значениями из {0, 1}\n",
    "        pool.append(np.random.randint(2, size=1000))\n",
    "    \n",
    "    lmb = lambda i : -Fit(i)\n",
    "    pool.sort(key=lmb)\n",
    "    res.append([F(pool[0]), Fit(pool[0])])\n",
    "    print(f'Значение функции - {res[-1][0]}, итерация - {len(res) - 1}')\n",
    "    \n",
    "    L = 0 # счетчик для регистрирования ситуаций 'паралича' лидера\n",
    "    \n",
    "    while res[-1][0]:\n",
    "        \n",
    "        for m in range(M - K, M): # жеская мутация худших - отбраковка и замена на новых\n",
    "            pool[m] = np.random.randint(2, size=1000)\n",
    "        \n",
    "        \n",
    "        fits = [ Fit(l) for l in pool]\n",
    "        s = sum(fits)\n",
    "        p_l = [ l / s for l in fits ]\n",
    "        \n",
    "        if L < 10: # проверяем, стоит ли убивать лидера\n",
    "            for m in range(1, M):\n",
    "                eta = np.random.choice(a = len(pool), p = p_l) \n",
    "                pool[m] = cross(pool[m], pool[eta])\n",
    "        else:\n",
    "            for m in range(M):\n",
    "                eta = np.random.choice(a = len(pool))\n",
    "                pool[m] = cross(pool[m], pool[eta])\n",
    "        \n",
    "        pool.sort(key=lmb)\n",
    "        res.append([F(pool[0]), Fit(pool[0])])\n",
    "        print(f'Значение функции - {res[-1][0]}, итерация - {len(res) - 1}')\n",
    "        \n",
    "        if res[-2][0] == res[-1][0]: # увеличиваем счетчик, если лидер не изменился, иначе обнуляем\n",
    "            L += 1\n",
    "        else:\n",
    "            L = 0\n",
    "    \n",
    "    return res"
   ]
  },
  {
   "cell_type": "code",
   "execution_count": 25,
   "metadata": {
    "scrolled": false
   },
   "outputs": [
    {
     "name": "stdout",
     "output_type": "stream",
     "text": [
      "Значение функции - 180, итерация - 0\n",
      "Значение функции - 10, итерация - 1\n",
      "Значение функции - 4, итерация - 2\n",
      "Значение функции - 4, итерация - 3\n",
      "Значение функции - 4, итерация - 4\n",
      "Значение функции - 4, итерация - 5\n",
      "Значение функции - 4, итерация - 6\n",
      "Значение функции - 4, итерация - 7\n",
      "Значение функции - 4, итерация - 8\n",
      "Значение функции - 4, итерация - 9\n",
      "Значение функции - 4, итерация - 10\n",
      "Значение функции - 4, итерация - 11\n",
      "Значение функции - 4, итерация - 12\n",
      "Значение функции - 4, итерация - 13\n",
      "Значение функции - 4, итерация - 14\n",
      "Значение функции - 4, итерация - 15\n",
      "Значение функции - 4, итерация - 16\n",
      "Значение функции - 4, итерация - 17\n",
      "Значение функции - 2, итерация - 18\n",
      "Значение функции - 2, итерация - 19\n",
      "Значение функции - 2, итерация - 20\n",
      "Значение функции - 2, итерация - 21\n",
      "Значение функции - 2, итерация - 22\n",
      "Значение функции - 2, итерация - 23\n",
      "Значение функции - 2, итерация - 24\n",
      "Значение функции - 2, итерация - 25\n",
      "Значение функции - 2, итерация - 26\n",
      "Значение функции - 2, итерация - 27\n",
      "Значение функции - 2, итерация - 28\n",
      "Значение функции - 4, итерация - 29\n",
      "Значение функции - 4, итерация - 30\n",
      "Значение функции - 4, итерация - 31\n",
      "Значение функции - 4, итерация - 32\n",
      "Значение функции - 4, итерация - 33\n",
      "Значение функции - 2, итерация - 34\n",
      "Значение функции - 2, итерация - 35\n",
      "Значение функции - 2, итерация - 36\n",
      "Значение функции - 2, итерация - 37\n",
      "Значение функции - 2, итерация - 38\n",
      "Значение функции - 2, итерация - 39\n",
      "Значение функции - 2, итерация - 40\n",
      "Значение функции - 2, итерация - 41\n",
      "Значение функции - 2, итерация - 42\n",
      "Значение функции - 2, итерация - 43\n",
      "Значение функции - 2, итерация - 44\n",
      "Значение функции - 2, итерация - 45\n",
      "Значение функции - 2, итерация - 46\n",
      "Значение функции - 2, итерация - 47\n",
      "Значение функции - 2, итерация - 48\n",
      "Значение функции - 2, итерация - 49\n",
      "Значение функции - 2, итерация - 50\n",
      "Значение функции - 2, итерация - 51\n",
      "Значение функции - 2, итерация - 52\n",
      "Значение функции - 2, итерация - 53\n",
      "Значение функции - 2, итерация - 54\n",
      "Значение функции - 2, итерация - 55\n",
      "Значение функции - 2, итерация - 56\n",
      "Значение функции - 0, итерация - 57\n"
     ]
    }
   ],
   "source": [
    "show = GA_split(500, 100)"
   ]
  },
  {
   "cell_type": "code",
   "execution_count": 26,
   "metadata": {},
   "outputs": [],
   "source": [
    "import matplotlib.pyplot as plt\n",
    "# import tikzplotlib"
   ]
  },
  {
   "cell_type": "code",
   "execution_count": 30,
   "metadata": {},
   "outputs": [
    {
     "data": {
      "image/png": "[encoded data removed]",
      "text/plain": [
       "<Figure size 720x360 with 2 Axes>"
      ]
     },
     "metadata": {
      "needs_background": "light"
     },
     "output_type": "display_data"
    }
   ],
   "source": [
    "fig, axes = plt.subplots(1, 2, tight_layout = True, figsize=(10, 5))\n",
    "\n",
    "axes[0].set(title='Func')\n",
    "axes[1].set(title='Fit')\n",
    "\n",
    "plt.rcParams['text.usetex'] = True\n",
    "\n",
    "axes[0].set_ylabel(r'$F(X)$', fontsize = 16)\n",
    "axes[0].set_xlabel(r'$t$', fontsize = 16)\n",
    "axes[1].set_ylabel(r'$Fit(X)$', fontsize = 16)\n",
    "axes[1].set_xlabel(r'$t$', fontsize = 16)\n",
    "\n",
    "axes[0].plot(np.array(show)[:, 0])\n",
    "axes[1].plot(np.array(show)[:, 1])\n",
    "\n",
    "axes[0].grid()\n",
    "axes[1].grid()\n",
    "\n",
    "plt.rcParams['text.usetex'] = False\n",
    "\n",
    "plt.show()\n",
    "# tikzplotlib.save(\"GA_split.tex\", flavor=\"context\")"
   ]
  }
 ],
 "metadata": {
  "kernelspec": {
   "display_name": "Python 3",
   "language": "python",
   "name": "python3"
  },
  "language_info": {
   "codemirror_mode": {
    "name": "ipython",
    "version": 3
   },
   "file_extension": ".py",
   "mimetype": "text/x-python",
   "name": "python",
   "nbconvert_exporter": "python",
   "pygments_lexer": "ipython3",
   "version": "3.8.5"
  }
 },
 "nbformat": 4,
 "nbformat_minor": 4
}
