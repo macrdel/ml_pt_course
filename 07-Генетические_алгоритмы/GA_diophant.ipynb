{
 "cells": [
  {
   "cell_type": "code",
   "execution_count": 1,
   "metadata": {},
   "outputs": [],
   "source": [
    "import random as rnd\n",
    "import numpy as np"
   ]
  },
  {
   "cell_type": "code",
   "execution_count": 2,
   "metadata": {},
   "outputs": [],
   "source": [
    "def F(x): # левая часть уравнения\n",
    "    return x[0] ** 2 - 2 * x[0] + x[1] ** 2 - 2 * x[1] * x[2] + 2 * x[2] ** 2 - 4 * x[2] + x[3] ** 2 - 6 * x[3] + 14\n",
    "\n",
    "def Fit(x): # функция приспособленности\n",
    "    return 1 / (1 + F(x))"
   ]
  },
  {
   "cell_type": "code",
   "execution_count": 3,
   "metadata": {},
   "outputs": [],
   "source": [
    "def cross(x, y): # операция кроссинговера\n",
    "    res = []\n",
    "\n",
    "    p = Fit(x) / (Fit(x) + Fit(y))\n",
    "\n",
    "    for i in range(4):\n",
    "        if rnd.random() < p:\n",
    "            res.append(x[i])\n",
    "        else:\n",
    "            res.append(y[i])\n",
    "\n",
    "    return res"
   ]
  },
  {
   "cell_type": "code",
   "execution_count": 4,
   "metadata": {},
   "outputs": [],
   "source": [
    "def GA_diophant(M, K, a, b):\n",
    "    x = [] # популяция\n",
    "    res = []\n",
    "    for _ in range(M): # формируем случайную популяцию\n",
    "        x.append([ rnd.randint(a, b) for _ in range(4)])\n",
    "    \n",
    "    lmb = lambda i : -Fit(i)\n",
    "    x.sort(key=lmb)\n",
    "    res.append([x[0], F(x[0]), Fit(x[0])])\n",
    "    print(f'Аргументы - {res[-1][0]}, значение функции - {res[-1][1]}, итерация - {len(res) - 1}')\n",
    "    \n",
    "    while res[-1][1]: # критерий окончания - найдено решение уравнения\n",
    "        \n",
    "        for m in range(M - K, M): # жесткая мутация\n",
    "            x[m] = [ rnd.randint(a, b) for _ in range(4)]\n",
    "        \n",
    "        old = x[:] \n",
    "        s = sum([ Fit(l) for l in x])\n",
    "        p_l = [ Fit(l) / s for l in x ] # подсчитываем вероятности выбора того или иного представителя\n",
    "        \n",
    "        for m in range(1, M):\n",
    "            eta = np.random.choice(a = len(x), p = p_l) # имитация рулетки\n",
    "            x[m] = cross(x[m], old[eta]) # скрещивание со случайной особью из предыдущей популяции\n",
    "        \n",
    "        x.sort(key=lmb) # сортировка по невозрастанию значений функции Fit\n",
    "        res.append([x[0], F(x[0]), Fit(x[0])])\n",
    "        print(f'Аргументы - {res[-1][0]}, значение функции - {res[-1][1]}, итерация - {len(res) - 1}')\n",
    "    \n",
    "    return res"
   ]
  },
  {
   "cell_type": "code",
   "execution_count": 16,
   "metadata": {
    "scrolled": false
   },
   "outputs": [
    {
     "name": "stdout",
     "output_type": "stream",
     "text": [
      "Аргументы - [2, 2, 3, -2], значение функции - 28, итерация - 0\n",
      "Аргументы - [-1, 3, 2, 4], значение функции - 6, итерация - 1\n",
      "Аргументы - [2, 3, 2, 4], значение функции - 3, итерация - 2\n",
      "Аргументы - [2, 3, 2, 4], значение функции - 3, итерация - 3\n",
      "Аргументы - [2, 3, 2, 4], значение функции - 3, итерация - 4\n",
      "Аргументы - [2, 3, 2, 4], значение функции - 3, итерация - 5\n",
      "Аргументы - [2, 3, 2, 4], значение функции - 3, итерация - 6\n",
      "Аргументы - [2, 3, 2, 4], значение функции - 3, итерация - 7\n",
      "Аргументы - [2, 3, 2, 3], значение функции - 2, итерация - 8\n",
      "Аргументы - [2, 3, 2, 3], значение функции - 2, итерация - 9\n",
      "Аргументы - [2, 3, 2, 3], значение функции - 2, итерация - 10\n",
      "Аргументы - [2, 3, 2, 3], значение функции - 2, итерация - 11\n",
      "Аргументы - [2, 3, 2, 3], значение функции - 2, итерация - 12\n",
      "Аргументы - [2, 3, 2, 3], значение функции - 2, итерация - 13\n",
      "Аргументы - [2, 3, 2, 3], значение функции - 2, итерация - 14\n",
      "Аргументы - [2, 3, 2, 3], значение функции - 2, итерация - 15\n",
      "Аргументы - [2, 3, 2, 3], значение функции - 2, итерация - 16\n",
      "Аргументы - [2, 2, 2, 3], значение функции - 1, итерация - 17\n",
      "Аргументы - [2, 2, 2, 3], значение функции - 1, итерация - 18\n",
      "Аргументы - [2, 2, 2, 3], значение функции - 1, итерация - 19\n",
      "Аргументы - [2, 2, 2, 3], значение функции - 1, итерация - 20\n",
      "Аргументы - [2, 2, 2, 3], значение функции - 1, итерация - 21\n",
      "Аргументы - [2, 2, 2, 3], значение функции - 1, итерация - 22\n",
      "Аргументы - [2, 2, 2, 3], значение функции - 1, итерация - 23\n",
      "Аргументы - [2, 2, 2, 3], значение функции - 1, итерация - 24\n",
      "Аргументы - [2, 2, 2, 3], значение функции - 1, итерация - 25\n",
      "Аргументы - [2, 2, 2, 3], значение функции - 1, итерация - 26\n",
      "Аргументы - [2, 2, 2, 3], значение функции - 1, итерация - 27\n",
      "Аргументы - [2, 2, 2, 3], значение функции - 1, итерация - 28\n",
      "Аргументы - [2, 2, 2, 3], значение функции - 1, итерация - 29\n",
      "Аргументы - [2, 2, 2, 3], значение функции - 1, итерация - 30\n",
      "Аргументы - [2, 2, 2, 3], значение функции - 1, итерация - 31\n",
      "Аргументы - [2, 2, 2, 3], значение функции - 1, итерация - 32\n",
      "Аргументы - [2, 2, 2, 3], значение функции - 1, итерация - 33\n",
      "Аргументы - [2, 2, 2, 3], значение функции - 1, итерация - 34\n",
      "Аргументы - [2, 2, 2, 3], значение функции - 1, итерация - 35\n",
      "Аргументы - [2, 2, 2, 3], значение функции - 1, итерация - 36\n",
      "Аргументы - [2, 2, 2, 3], значение функции - 1, итерация - 37\n",
      "Аргументы - [2, 2, 2, 3], значение функции - 1, итерация - 38\n",
      "Аргументы - [2, 2, 2, 3], значение функции - 1, итерация - 39\n",
      "Аргументы - [2, 2, 2, 3], значение функции - 1, итерация - 40\n",
      "Аргументы - [2, 2, 2, 3], значение функции - 1, итерация - 41\n",
      "Аргументы - [2, 2, 2, 3], значение функции - 1, итерация - 42\n",
      "Аргументы - [2, 2, 2, 3], значение функции - 1, итерация - 43\n",
      "Аргументы - [2, 2, 2, 3], значение функции - 1, итерация - 44\n",
      "Аргументы - [2, 2, 2, 3], значение функции - 1, итерация - 45\n",
      "Аргументы - [2, 2, 2, 3], значение функции - 1, итерация - 46\n",
      "Аргументы - [2, 2, 2, 3], значение функции - 1, итерация - 47\n",
      "Аргументы - [2, 2, 2, 3], значение функции - 1, итерация - 48\n",
      "Аргументы - [2, 2, 2, 3], значение функции - 1, итерация - 49\n",
      "Аргументы - [2, 2, 2, 3], значение функции - 1, итерация - 50\n",
      "Аргументы - [2, 2, 2, 3], значение функции - 1, итерация - 51\n",
      "Аргументы - [2, 2, 2, 3], значение функции - 1, итерация - 52\n",
      "Аргументы - [2, 2, 2, 3], значение функции - 1, итерация - 53\n",
      "Аргументы - [2, 2, 2, 3], значение функции - 1, итерация - 54\n",
      "Аргументы - [2, 2, 2, 3], значение функции - 1, итерация - 55\n",
      "Аргументы - [2, 2, 2, 3], значение функции - 1, итерация - 56\n",
      "Аргументы - [2, 2, 2, 3], значение функции - 1, итерация - 57\n",
      "Аргументы - [2, 2, 2, 3], значение функции - 1, итерация - 58\n",
      "Аргументы - [2, 2, 2, 3], значение функции - 1, итерация - 59\n",
      "Аргументы - [2, 2, 2, 3], значение функции - 1, итерация - 60\n",
      "Аргументы - [2, 2, 2, 3], значение функции - 1, итерация - 61\n",
      "Аргументы - [2, 2, 2, 3], значение функции - 1, итерация - 62\n",
      "Аргументы - [2, 2, 2, 3], значение функции - 1, итерация - 63\n",
      "Аргументы - [2, 2, 2, 3], значение функции - 1, итерация - 64\n",
      "Аргументы - [2, 2, 2, 3], значение функции - 1, итерация - 65\n",
      "Аргументы - [2, 2, 2, 3], значение функции - 1, итерация - 66\n",
      "Аргументы - [2, 2, 2, 3], значение функции - 1, итерация - 67\n",
      "Аргументы - [2, 2, 2, 3], значение функции - 1, итерация - 68\n",
      "Аргументы - [2, 2, 2, 3], значение функции - 1, итерация - 69\n",
      "Аргументы - [2, 2, 2, 3], значение функции - 1, итерация - 70\n",
      "Аргументы - [2, 2, 2, 3], значение функции - 1, итерация - 71\n",
      "Аргументы - [2, 2, 2, 3], значение функции - 1, итерация - 72\n",
      "Аргументы - [2, 2, 2, 3], значение функции - 1, итерация - 73\n",
      "Аргументы - [2, 2, 2, 3], значение функции - 1, итерация - 74\n",
      "Аргументы - [2, 2, 2, 3], значение функции - 1, итерация - 75\n",
      "Аргументы - [2, 2, 2, 3], значение функции - 1, итерация - 76\n",
      "Аргументы - [2, 2, 2, 3], значение функции - 1, итерация - 77\n",
      "Аргументы - [2, 2, 2, 3], значение функции - 1, итерация - 78\n",
      "Аргументы - [2, 2, 2, 3], значение функции - 1, итерация - 79\n",
      "Аргументы - [2, 2, 2, 3], значение функции - 1, итерация - 80\n",
      "Аргументы - [2, 2, 2, 3], значение функции - 1, итерация - 81\n",
      "Аргументы - [2, 2, 2, 3], значение функции - 1, итерация - 82\n",
      "Аргументы - [2, 2, 2, 3], значение функции - 1, итерация - 83\n",
      "Аргументы - [2, 2, 2, 3], значение функции - 1, итерация - 84\n",
      "Аргументы - [2, 2, 2, 3], значение функции - 1, итерация - 85\n",
      "Аргументы - [2, 2, 2, 3], значение функции - 1, итерация - 86\n",
      "Аргументы - [2, 2, 2, 3], значение функции - 1, итерация - 87\n",
      "Аргументы - [2, 2, 2, 3], значение функции - 1, итерация - 88\n",
      "Аргументы - [2, 2, 2, 3], значение функции - 1, итерация - 89\n",
      "Аргументы - [2, 2, 2, 3], значение функции - 1, итерация - 90\n",
      "Аргументы - [2, 2, 2, 3], значение функции - 1, итерация - 91\n",
      "Аргументы - [2, 2, 2, 3], значение функции - 1, итерация - 92\n",
      "Аргументы - [2, 2, 2, 3], значение функции - 1, итерация - 93\n",
      "Аргументы - [2, 2, 2, 3], значение функции - 1, итерация - 94\n",
      "Аргументы - [2, 2, 2, 3], значение функции - 1, итерация - 95\n",
      "Аргументы - [1, 2, 2, 3], значение функции - 0, итерация - 96\n"
     ]
    }
   ],
   "source": [
    "show = GA_diophant(100, 20, -10, 10)"
   ]
  },
  {
   "cell_type": "code",
   "execution_count": 17,
   "metadata": {},
   "outputs": [],
   "source": [
    "import matplotlib.pyplot as plt\n",
    "# import tikzplotlib"
   ]
  },
  {
   "cell_type": "code",
   "execution_count": 24,
   "metadata": {},
   "outputs": [
    {
     "name": "stderr",
     "output_type": "stream",
     "text": [
      "<ipython-input-24-bbff82acd194>:13: VisibleDeprecationWarning: Creating an ndarray from ragged nested sequences (which is a list-or-tuple of lists-or-tuples-or ndarrays with different lengths or shapes) is deprecated. If you meant to do this, you must specify 'dtype=object' when creating the ndarray\n",
      "  axes[0].plot(np.array(show)[:, 1])\n",
      "<ipython-input-24-bbff82acd194>:14: VisibleDeprecationWarning: Creating an ndarray from ragged nested sequences (which is a list-or-tuple of lists-or-tuples-or ndarrays with different lengths or shapes) is deprecated. If you meant to do this, you must specify 'dtype=object' when creating the ndarray\n",
      "  axes[1].plot(np.array(show)[:, 2])\n"
     ]
    },
    {
     "data": {
      "image/png": "[encoded data removed]",
      "text/plain": [
       "<Figure size 720x360 with 2 Axes>"
      ]
     },
     "metadata": {
      "needs_background": "light"
     },
     "output_type": "display_data"
    }
   ],
   "source": [
    "fig, axes = plt.subplots(1, 2, tight_layout = True, figsize=(10, 5))\n",
    "\n",
    "axes[0].set(title='Func')\n",
    "axes[1].set(title='Fit')\n",
    "\n",
    "plt.rcParams['text.usetex'] = True\n",
    "\n",
    "axes[0].set_ylabel(r'$F(X)$', fontsize = 16)\n",
    "axes[0].set_xlabel(r'$t$', fontsize = 16)\n",
    "axes[1].set_ylabel(r'$Fit(X)$', fontsize = 16)\n",
    "axes[1].set_xlabel(r'$t$', fontsize = 16)\n",
    "\n",
    "axes[0].plot(np.array(show)[:, 1])\n",
    "axes[1].plot(np.array(show)[:, 2])\n",
    "\n",
    "axes[0].grid()\n",
    "axes[1].grid()\n",
    "\n",
    "plt.rcParams['text.usetex'] = False\n",
    "\n",
    "plt.show()\n",
    "# tikzplotlib.save(\"GA_diophant.tex\", flavor=\"context\")"
   ]
  }
 ],
 "metadata": {
  "kernelspec": {
   "display_name": "Python 3",
   "language": "python",
   "name": "python3"
  },
  "language_info": {
   "codemirror_mode": {
    "name": "ipython",
    "version": 3
   },
   "file_extension": ".py",
   "mimetype": "text/x-python",
   "name": "python",
   "nbconvert_exporter": "python",
   "pygments_lexer": "ipython3",
   "version": "3.8.5"
  }
 },
 "nbformat": 4,
 "nbformat_minor": 4
}
