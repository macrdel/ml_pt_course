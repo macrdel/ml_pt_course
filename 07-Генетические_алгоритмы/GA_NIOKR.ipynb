{
 "cells": [
  {
   "cell_type": "code",
   "execution_count": 1,
   "metadata": {},
   "outputs": [],
   "source": [
    "import numpy as np"
   ]
  },
  {
   "cell_type": "code",
   "execution_count": 2,
   "metadata": {},
   "outputs": [],
   "source": [
    "def Fit(x):\n",
    "    res = 0\n",
    "    for i, xn in enumerate(x):\n",
    "        if i == xn:\n",
    "            res += 100 / (1 + i)\n",
    "        else:\n",
    "            res += 1 / (1 + i)\n",
    "    return res"
   ]
  },
  {
   "cell_type": "code",
   "execution_count": 3,
   "metadata": {},
   "outputs": [],
   "source": [
    "def cross(x, y):\n",
    "    res = []\n",
    "\n",
    "    p = Fit(x) / (Fit(x) + Fit(y))\n",
    "\n",
    "    for i in range(x.shape[0]):\n",
    "        if np.random.random() < p:\n",
    "            res.append(x[i])\n",
    "        else:\n",
    "            res.append(y[i])\n",
    "\n",
    "    return np.array(res)"
   ]
  },
  {
   "cell_type": "code",
   "execution_count": 4,
   "metadata": {},
   "outputs": [],
   "source": [
    "def GA_NIOKR(M, K):\n",
    "    arr = np.arange(6)\n",
    "    x = []\n",
    "    res = []\n",
    "    for _ in range(M):\n",
    "        np.random.shuffle(arr)\n",
    "        x.append(arr[:])\n",
    "    \n",
    "    lmb = lambda i : -Fit(i)\n",
    "    x.sort(key=lmb)\n",
    "    res.append([x[0], Fit(x[0])])\n",
    "    print(f'Аргументы - {res[-1][0]}, значение функции - {res[-1][1]}, итерация - {len(res) - 1}')\n",
    "    \n",
    "    while np.any(np.not_equal(res[-1][0], np.arange(6))):\n",
    "        \n",
    "        for m in range(M - K, M):\n",
    "            np.random.shuffle(arr)\n",
    "            x[m] = arr[:]\n",
    "        \n",
    "        for m in range(1, M):\n",
    "            x[m] = cross(x[m], x[np.random.choice(M)])\n",
    "        \n",
    "        x.sort(key=lmb)\n",
    "        res.append([x[0], Fit(x[0])])\n",
    "        print(f'Аргументы - {res[-1][0]}, значение функции - {res[-1][1]}, итерация - {len(res) - 1}')\n",
    "    \n",
    "    return res"
   ]
  },
  {
   "cell_type": "code",
   "execution_count": 34,
   "metadata": {
    "scrolled": false
   },
   "outputs": [
    {
     "name": "stdout",
     "output_type": "stream",
     "text": [
      "Аргументы - [4 0 3 5 2 1], значение функции - 2.4499999999999997, итерация - 0\n",
      "Аргументы - [0 4 5 2 3 1], значение функции - 101.45, итерация - 1\n",
      "Аргументы - [0 4 4 0 3 1], значение функции - 101.45, итерация - 2\n",
      "Аргументы - [0 4 4 0 3 1], значение функции - 101.45, итерация - 3\n",
      "Аргументы - [0 4 4 2 3 5], значение функции - 117.95, итерация - 4\n",
      "Аргументы - [0 4 4 2 3 5], значение функции - 117.95, итерация - 5\n",
      "Аргументы - [0 4 4 2 3 5], значение функции - 117.95, итерация - 6\n",
      "Аргументы - [0 4 4 3 3 1], значение функции - 126.2, итерация - 7\n",
      "Аргументы - [0 1 2 3 4 5], значение функции - 245.0, итерация - 8\n"
     ]
    }
   ],
   "source": [
    "show = GA_NIOKR(20, 4)"
   ]
  }
 ],
 "metadata": {
  "kernelspec": {
   "display_name": "Python 3",
   "language": "python",
   "name": "python3"
  },
  "language_info": {
   "codemirror_mode": {
    "name": "ipython",
    "version": 3
   },
   "file_extension": ".py",
   "mimetype": "text/x-python",
   "name": "python",
   "nbconvert_exporter": "python",
   "pygments_lexer": "ipython3",
   "version": "3.8.5"
  }
 },
 "nbformat": 4,
 "nbformat_minor": 4
}
